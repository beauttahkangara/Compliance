{
 "cells": [
  {
   "cell_type": "markdown",
   "id": "5439d7c1-c67c-4afb-8ac4-6cc73d0912b1",
   "metadata": {},
   "source": [
    "Define search function\n",
    "Subtask:\n",
    "Create a function that takes a name as input and constructs the search URL."
   ]
  },
  {
   "cell_type": "code",
   "execution_count": 1,
   "id": "8035b377-d204-4f15-b572-0e591f94a1b8",
   "metadata": {},
   "outputs": [],
   "source": [
    "def construct_kenyalaw_search_url(name):\n",
    "  \"\"\"Constructs the search URL for Kenya Law with the provided name.\n",
    "\n",
    "  Args:\n",
    "    name: The name to search for.\n",
    "\n",
    "  Returns:\n",
    "    The constructed search URL.\n",
    "  \"\"\"\n",
    "  base_url = \"https://new.kenyalaw.org/search/?q=name&nature=Judgment\"\n",
    "  search_url = base_url.replace(\"name\", name)\n",
    "  return search_url\n"
   ]
  },
  {
   "cell_type": "markdown",
   "id": "a8715437-a644-4b91-98e1-75bee24db73f",
   "metadata": {},
   "source": [
    "Fetch search results\n",
    "Subtask:\n",
    "Use the requests library to fetch the HTML content of the search results page."
   ]
  },
  {
   "cell_type": "code",
   "execution_count": 2,
   "id": "81356267-5bc0-4ad3-9f7c-f4c1d2b87667",
   "metadata": {},
   "outputs": [
    {
     "name": "stdout",
     "output_type": "stream",
     "text": [
      "Request successful.\n"
     ]
    }
   ],
   "source": [
    "import requests\n",
    "\n",
    "search_name = \"Agnes+Kagure\"\n",
    "search_url = construct_kenyalaw_search_url(search_name)\n",
    "response = requests.get(search_url)\n",
    "\n",
    "if response.status_code == 200:\n",
    "    print(\"Request successful.\")\n",
    "else:\n",
    "    print(f\"Request failed with status code: {response.status_code}\")"
   ]
  },
  {
   "cell_type": "markdown",
   "id": "e68e1a9e-122f-43da-bc46-e1d5c7a62c31",
   "metadata": {},
   "source": [
    "Install Selenium and Wbdriver-Manager"
   ]
  },
  {
   "cell_type": "code",
   "execution_count": null,
   "id": "827b4ee4-e7c1-4f72-9c20-40dc2000fb99",
   "metadata": {},
   "outputs": [],
   "source": [
    "%pip install selenium"
   ]
  },
  {
   "cell_type": "code",
   "execution_count": null,
   "id": "06b96578-86df-4964-b23a-60068a95bbb6",
   "metadata": {},
   "outputs": [],
   "source": [
    "%pip install webdriver-manager"
   ]
  },
  {
   "cell_type": "markdown",
   "id": "5e55bbf2-1f99-4285-b45f-db684bf74cb4",
   "metadata": {},
   "source": [
    "Fetch dynamic content\n",
    "Subtask:\n",
    "Use Selenium to navigate to the search URL and wait for the search results to load."
   ]
  },
  {
   "cell_type": "code",
   "execution_count": 7,
   "id": "a74ace2d-0247-44e5-9927-cea7f40c613d",
   "metadata": {},
   "outputs": [
    {
     "name": "stdout",
     "output_type": "stream",
     "text": [
      "Search results container found.\n"
     ]
    }
   ],
   "source": [
    "from selenium import webdriver\n",
    "from selenium.webdriver.chrome.options import Options\n",
    "from webdriver_manager.chrome import ChromeDriverManager\n",
    "\n",
    "options = Options()\n",
    "options.add_argument('--headless')\n",
    "options.add_argument('--no-sandbox')\n",
    "options.add_argument('--disable-dev-shm-usage')\n",
    "\n",
    "# Instantiate the Chrome webdriver with the defined options\n",
    "driver = webdriver.Chrome(options=options)\n",
    "\n",
    "from selenium.webdriver.common.by import By\n",
    "from selenium.webdriver.support.ui import WebDriverWait\n",
    "from selenium.webdriver.support import expected_conditions as EC\n",
    "\n",
    "search_name = \"agnes kagure\"\n",
    "search_url = construct_kenyalaw_search_url(search_name)\n",
    "\n",
    "driver.get(search_url)\n",
    "\n",
    "# Wait for the search results container to be present\n",
    "try:\n",
    "    search_results_container = WebDriverWait(driver, 10).until(\n",
    "        EC.presence_of_element_located((By.CSS_SELECTOR, 'div[data-v-1dac1b9c]'))\n",
    "    )\n",
    "    print(\"Search results container found.\")\n",
    "except:\n",
    "    print(\"Search results container not found within the waiting time.\")"
   ]
  },
  {
   "cell_type": "markdown",
   "id": "0c72d92f-f644-40e5-9324-5e377f440eea",
   "metadata": {},
   "source": [
    "Parse dynamic content\n",
    "Subtask:\n",
    "Get the page source after the dynamic content has loaded and use BeautifulSoup to parse it."
   ]
  },
  {
   "cell_type": "code",
   "execution_count": 8,
   "id": "cd733dad-7722-4fb0-821d-8d02a26f115f",
   "metadata": {},
   "outputs": [],
   "source": [
    "page_source = driver.page_source\n",
    "soup = BeautifulSoup(page_source, 'html.parser')"
   ]
  },
  {
   "cell_type": "markdown",
   "id": "df9ce12d-95e9-44a2-ab61-8e36941e3d4b",
   "metadata": {},
   "source": [
    "Extract and display results\n",
    "Subtask:\n",
    "Extract the links and titles of the judgments from the parsed HTML and display them."
   ]
  },
  {
   "cell_type": "code",
   "execution_count": 9,
   "id": "6e69f0c9-5708-4eab-881e-916f3c321f2b",
   "metadata": {},
   "outputs": [
    {
     "name": "stdout",
     "output_type": "stream",
     "text": [
      "Search Results:\n",
      "Title: Uniglobe Northline Travel Limited v Agnes Kagure Kariuki [2021] KEHC 3264 (KLR)\n",
      "Link: /akn/ke/judgment/kehc/2021/3264/eng@2021-10-01\n",
      "\n",
      "Title: Uniglobe Northline Travel Limited v Agnes Kagure Kariuki [2018] KEHC 8937 (KLR)\n",
      "Link: /akn/ke/judgment/kehc/2018/8937/eng@2018-01-30\n",
      "\n",
      "Title: Uniglobe Northline Travel Ltd v Agnes Kagure Kariuki & another [2018] KEHC 1682 (KLR)\n",
      "Link: /akn/ke/judgment/kehc/2018/1682/eng@2018-11-02\n",
      "\n",
      "Title: Uni Globe Northline Travel Ltd v Agnes Kagure Kariuki & another [2018] KEHC 1769 (KLR)\n",
      "Link: /akn/ke/judgment/kehc/2018/1769/eng@2018-12-14\n",
      "\n",
      "Title: Joel Munyoki Munene v Agnes Kagure Kariuki & 2 others [2017] KEELC 284 (KLR)\n",
      "Link: /akn/ke/judgment/keelc/2017/284/eng@2017-12-05\n",
      "\n",
      "Title: Ruth Wambui Kimani(suing as an Administratix of the Estate of the lateFrancis Kimani Mungui & another v Agnes Kagure Kariuki & 4 others [2022] KEELC 562 (KLR)\n",
      "Link: /akn/ke/judgment/keelc/2022/562/eng@2022-03-24\n",
      "\n",
      "Title: Joel Munyoki Munene v Agnes Kagure Kariuki & 2 others [2022] KEELC 281 (KLR)\n",
      "Link: /akn/ke/judgment/keelc/2022/281/eng@2022-04-20\n",
      "\n",
      "Title: Republic v Director of Public Prosecutions & another; Ex parte Guy Spencer Elms & another; Agnes Kagure Kariuki (Interested Party) [2021] KEHC 7915 (KLR)\n",
      "Link: /akn/ke/judgment/kehc/2021/7915/eng@2021-03-17\n",
      "\n",
      "Title: Guy Spencer Elms (suing as the personal representative of the Estate of Roger Bryan Robson (Deceased) v Agnes Kariuki Kagure [2021] KEELC 4012 (KLR)\n",
      "Link: /akn/ke/judgment/keelc/2021/4012/eng@2021-03-11\n",
      "\n",
      "Title: Guy Spencer Elms v Agnes Kariuki Kagure [2017] KEELC 3135 (KLR)\n",
      "Link: /akn/ke/judgment/keelc/2017/3135/eng@2017-01-27\n",
      "\n"
     ]
    }
   ],
   "source": [
    "search_results_container = soup.select_one('div[data-v-1dac1b9c]')\n",
    "\n",
    "if search_results_container:\n",
    "    results_list = search_results_container.select_one('ul.list-unstyled')\n",
    "\n",
    "    if results_list:\n",
    "        judgment_links = results_list.select('a')\n",
    "        print(\"Search Results:\")\n",
    "        for link in judgment_links:\n",
    "            href = link.get('href')\n",
    "            title = link.text.strip()\n",
    "            print(f\"Title: {title}\\nLink: {href}\\n\")\n",
    "    else:\n",
    "        print(\"No search results list found on the page.\")\n",
    "else:\n",
    "    print(\"No search results container found on the page.\")\n"
   ]
  },
  {
   "cell_type": "markdown",
   "id": "5e6fd141-b628-4a2f-a470-7b338e834c8e",
   "metadata": {},
   "source": [
    "Analyze search results\n",
    "Subtask:\n",
    "Categorize or count the types of judgments based on keywords in the titles."
   ]
  },
  {
   "cell_type": "code",
   "execution_count": 10,
   "id": "f2301b83-f5a9-4e5a-83a0-960a0b6dcd86",
   "metadata": {},
   "outputs": [
    {
     "name": "stdout",
     "output_type": "stream",
     "text": [
      "\n",
      "Categorized Judgments:\n",
      "\n",
      "--- High Court (5) ---\n",
      "Title: Uniglobe Northline Travel Limited v Agnes Kagure Kariuki [2021] KEHC 3264 (KLR)\n",
      "Link: /akn/ke/judgment/kehc/2021/3264/eng@2021-10-01\n",
      "Title: Uniglobe Northline Travel Limited v Agnes Kagure Kariuki [2018] KEHC 8937 (KLR)\n",
      "Link: /akn/ke/judgment/kehc/2018/8937/eng@2018-01-30\n",
      "Title: Uniglobe Northline Travel Ltd v Agnes Kagure Kariuki & another [2018] KEHC 1682 (KLR)\n",
      "Link: /akn/ke/judgment/kehc/2018/1682/eng@2018-11-02\n",
      "Title: Uni Globe Northline Travel Ltd v Agnes Kagure Kariuki & another [2018] KEHC 1769 (KLR)\n",
      "Link: /akn/ke/judgment/kehc/2018/1769/eng@2018-12-14\n",
      "Title: Republic v Director of Public Prosecutions & another; Ex parte Guy Spencer Elms & another; Agnes Kagure Kariuki (Interested Party) [2021] KEHC 7915 (KLR)\n",
      "Link: /akn/ke/judgment/kehc/2021/7915/eng@2021-03-17\n",
      "\n",
      "--- Environment and Land Court (5) ---\n",
      "Title: Joel Munyoki Munene v Agnes Kagure Kariuki & 2 others [2017] KEELC 284 (KLR)\n",
      "Link: /akn/ke/judgment/keelc/2017/284/eng@2017-12-05\n",
      "Title: Ruth Wambui Kimani(suing as an Administratix of the Estate of the lateFrancis Kimani Mungui & another v Agnes Kagure Kariuki & 4 others [2022] KEELC 562 (KLR)\n",
      "Link: /akn/ke/judgment/keelc/2022/562/eng@2022-03-24\n",
      "Title: Joel Munyoki Munene v Agnes Kagure Kariuki & 2 others [2022] KEELC 281 (KLR)\n",
      "Link: /akn/ke/judgment/keelc/2022/281/eng@2022-04-20\n",
      "Title: Guy Spencer Elms (suing as the personal representative of the Estate of Roger Bryan Robson (Deceased) v Agnes Kariuki Kagure [2021] KEELC 4012 (KLR)\n",
      "Link: /akn/ke/judgment/keelc/2021/4012/eng@2021-03-11\n",
      "Title: Guy Spencer Elms v Agnes Kariuki Kagure [2017] KEELC 3135 (KLR)\n",
      "Link: /akn/ke/judgment/keelc/2017/3135/eng@2017-01-27\n"
     ]
    }
   ],
   "source": [
    "# Define keywords for categorization\n",
    "judgment_categories = {\n",
    "    \"High Court\": [\"KEHC\"],\n",
    "    \"Environment and Land Court\": [\"KEELC\"],\n",
    "    \"Court of Appeal\": [\"KECA\"],\n",
    "    # Add more categories and keywords as needed\n",
    "}\n",
    "\n",
    "# Categorize judgments based on keywords in the title\n",
    "categorized_judgments = {}\n",
    "for link in judgment_links:\n",
    "    title = link.text.strip()\n",
    "    category = \"Other\"  # Default category\n",
    "    for cat, keywords in judgment_categories.items():\n",
    "        if any(keyword in title for keyword in keywords):\n",
    "            category = cat\n",
    "            break\n",
    "    if category not in categorized_judgments:\n",
    "        categorized_judgments[category] = []\n",
    "    categorized_judgments[category].append({\"title\": title, \"link\": link.get('href')})\n",
    "\n",
    "# Display the categorized judgments and counts\n",
    "print(\"\\nCategorized Judgments:\")\n",
    "for category, judgments in categorized_judgments.items():\n",
    "    print(f\"\\n--- {category} ({len(judgments)}) ---\")\n",
    "    for judgment in judgments:\n",
    "        print(f\"Title: {judgment['title']}\")\n",
    "        print(f\"Link: {judgment['link']}\")"
   ]
  },
  {
   "cell_type": "code",
   "execution_count": null,
   "id": "bd8b1c61-2dcc-4010-ac68-09b8266dd138",
   "metadata": {},
   "outputs": [],
   "source": []
  }
 ],
 "metadata": {
  "kernelspec": {
   "display_name": "Python 3 (ipykernel)",
   "language": "python",
   "name": "python3"
  },
  "language_info": {
   "codemirror_mode": {
    "name": "ipython",
    "version": 3
   },
   "file_extension": ".py",
   "mimetype": "text/x-python",
   "name": "python",
   "nbconvert_exporter": "python",
   "pygments_lexer": "ipython3",
   "version": "3.11.9"
  }
 },
 "nbformat": 4,
 "nbformat_minor": 5
}
